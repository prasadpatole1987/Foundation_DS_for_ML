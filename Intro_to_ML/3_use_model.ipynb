{
 "cells": [
  {
   "cell_type": "markdown",
   "id": "0c833a96",
   "metadata": {},
   "source": [
    "# Training versus using a model\n",
    "### Using a model means providing inputs and receiving an estimation or prediction. This is process is done at the time of training models as well as using it in real world. \n",
    "\n",
    "### Training a model is the process of improving how well model works. Training requires that we use the model, the objective functions and the optimizer in a special loop. Training can take some time. Once it is trained, model can be used many times without making any further changes in it.\n",
    "\n",
    "### Once training is complete, we can save model in a file. When we want to use it, we can load it from disk, provide it with new data and get back a prediction."
   ]
  },
  {
   "cell_type": "code",
   "execution_count": 1,
   "id": "3816d609",
   "metadata": {},
   "outputs": [
    {
     "data": {
      "text/html": [
       "<div>\n",
       "<style scoped>\n",
       "    .dataframe tbody tr th:only-of-type {\n",
       "        vertical-align: middle;\n",
       "    }\n",
       "\n",
       "    .dataframe tbody tr th {\n",
       "        vertical-align: top;\n",
       "    }\n",
       "\n",
       "    .dataframe thead th {\n",
       "        text-align: right;\n",
       "    }\n",
       "</style>\n",
       "<table border=\"1\" class=\"dataframe\">\n",
       "  <thead>\n",
       "    <tr style=\"text-align: right;\">\n",
       "      <th></th>\n",
       "      <th>boot_size</th>\n",
       "      <th>harness_size</th>\n",
       "      <th>sex</th>\n",
       "      <th>age_years</th>\n",
       "    </tr>\n",
       "  </thead>\n",
       "  <tbody>\n",
       "    <tr>\n",
       "      <th>0</th>\n",
       "      <td>39</td>\n",
       "      <td>58</td>\n",
       "      <td>male</td>\n",
       "      <td>12.0</td>\n",
       "    </tr>\n",
       "    <tr>\n",
       "      <th>1</th>\n",
       "      <td>38</td>\n",
       "      <td>58</td>\n",
       "      <td>male</td>\n",
       "      <td>9.6</td>\n",
       "    </tr>\n",
       "    <tr>\n",
       "      <th>2</th>\n",
       "      <td>37</td>\n",
       "      <td>52</td>\n",
       "      <td>female</td>\n",
       "      <td>8.6</td>\n",
       "    </tr>\n",
       "    <tr>\n",
       "      <th>3</th>\n",
       "      <td>39</td>\n",
       "      <td>58</td>\n",
       "      <td>male</td>\n",
       "      <td>10.2</td>\n",
       "    </tr>\n",
       "    <tr>\n",
       "      <th>4</th>\n",
       "      <td>38</td>\n",
       "      <td>57</td>\n",
       "      <td>male</td>\n",
       "      <td>7.8</td>\n",
       "    </tr>\n",
       "  </tbody>\n",
       "</table>\n",
       "</div>"
      ],
      "text/plain": [
       "   boot_size  harness_size     sex  age_years\n",
       "0         39            58    male       12.0\n",
       "1         38            58    male        9.6\n",
       "2         37            52  female        8.6\n",
       "3         39            58    male       10.2\n",
       "4         38            57    male        7.8"
      ]
     },
     "execution_count": 1,
     "metadata": {},
     "output_type": "execute_result"
    }
   ],
   "source": [
    "import pandas as pd\n",
    "\n",
    "data = pd.read_csv('doggy-boot-harness.csv')\n",
    "\n",
    "data.head()"
   ]
  },
  {
   "cell_type": "code",
   "execution_count": 2,
   "id": "7c340bb2",
   "metadata": {},
   "outputs": [
    {
     "name": "stdout",
     "output_type": "stream",
     "text": [
      "Created a model and trained it\n"
     ]
    }
   ],
   "source": [
    "# Create and train model\n",
    "\n",
    "import statsmodels.formula.api as smf\n",
    "\n",
    "model = smf.ols(formula = 'boot_size ~ harness_size', data = data).fit()\n",
    "\n",
    "print(\"Created a model and trained it\")\n"
   ]
  },
  {
   "cell_type": "code",
   "execution_count": null,
   "id": "31592f7b",
   "metadata": {},
   "outputs": [
    {
     "data": {
      "text/plain": [
       "['./avalanche_dog_boot_model.pkl']"
      ]
     },
     "execution_count": 4,
     "metadata": {},
     "output_type": "execute_result"
    }
   ],
   "source": [
    "# save a model\n",
    "import joblib\n",
    "\n",
    "\n",
    "model_filename = './avalanche_dog_boot_model.pkl'\n",
    "joblib.dump(model, model_filename)"
   ]
  },
  {
   "cell_type": "code",
   "execution_count": 5,
   "id": "82fa5fe8",
   "metadata": {},
   "outputs": [
    {
     "name": "stdout",
     "output_type": "stream",
     "text": [
      "Intercept       5.719110\n",
      "harness_size    0.585925\n",
      "dtype: float64\n"
     ]
    }
   ],
   "source": [
    "# Load a model\n",
    "model_loaded = joblib.load(model_filename)\n",
    "\n",
    "print(model_loaded.params)"
   ]
  },
  {
   "cell_type": "code",
   "execution_count": 6,
   "id": "1a1fd6bc",
   "metadata": {},
   "outputs": [
    {
     "name": "stdout",
     "output_type": "stream",
     "text": [
      "We have loaded model with following parameters:\n",
      "Intercept       5.719110\n",
      "harness_size    0.585925\n",
      "dtype: float64\n",
      "Predicted dog boot size:  32.085753565904795\n"
     ]
    }
   ],
   "source": [
    "def load_model_and_predict(harness_size):\n",
    "    # load the model from the file and print basic information about it\n",
    "    loaded_model = joblib.load(model_filename)\n",
    "\n",
    "    print(\"We have loaded model with following parameters:\")\n",
    "    print(loaded_model.params)\n",
    "\n",
    "\n",
    "    inputs = {'harness_size': [harness_size]}\n",
    "\n",
    "    predicted_boot_size = loaded_model.predict(inputs)[0]\n",
    "\n",
    "    return predicted_boot_size\n",
    "\n",
    "predicted_boot_size = load_model_and_predict(45)\n",
    "\n",
    "print('Predicted dog boot size: ', predicted_boot_size)\n"
   ]
  },
  {
   "cell_type": "code",
   "execution_count": 10,
   "id": "48a45466",
   "metadata": {},
   "outputs": [
    {
     "name": "stdout",
     "output_type": "stream",
     "text": [
      "We have loaded model with following parameters:\n",
      "Intercept       5.719110\n",
      "harness_size    0.585925\n",
      "dtype: float64\n",
      "Selected boot size might be SMALL for your dog\n"
     ]
    }
   ],
   "source": [
    "def check_size_of_boots(selected_harness_size, selected_boot_size):\n",
    "    estimated_boot_size = load_model_and_predict(selected_harness_size)\n",
    "    estimated_boot_size = int(round(estimated_boot_size))\n",
    "\n",
    "    if selected_boot_size == estimated_boot_size:\n",
    "        print('Your have selected a perfect size')\n",
    "    elif selected_boot_size < estimated_boot_size:\n",
    "        print('Selected boot size might be SMALL for your dog')\n",
    "    else:\n",
    "        print('Selected boot size might be BIG for your dog')\n",
    "\n",
    "check_size_of_boots(selected_harness_size = 55, selected_boot_size = 36)\n"
   ]
  }
 ],
 "metadata": {
  "kernelspec": {
   "display_name": "DSFoundation",
   "language": "python",
   "name": "python3"
  },
  "language_info": {
   "codemirror_mode": {
    "name": "ipython",
    "version": 3
   },
   "file_extension": ".py",
   "mimetype": "text/x-python",
   "name": "python",
   "nbconvert_exporter": "python",
   "pygments_lexer": "ipython3",
   "version": "3.13.7"
  }
 },
 "nbformat": 4,
 "nbformat_minor": 5
}
