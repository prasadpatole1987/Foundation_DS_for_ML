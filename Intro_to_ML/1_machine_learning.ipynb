{
 "cells": [
  {
   "cell_type": "markdown",
   "id": "f44d446c",
   "metadata": {},
   "source": [
    "## What are the machine learning models?\n",
    "\n",
    "### The model is the core component of machine learning, designed to make predictions or decisions. Unlike traditional models built using human knowledge, machine learning models are shaped by data and improve by learning from experience.\n",
    "\n",
    "### A model can be thought of as a function. It takes input data and produces an output. The input and output are data and not part of model itself.\n",
    "\n",
    "### Choosing a model is the first step in machine learning. Simpler models are easier to understand and reliable while complex ones can achieve more but are harder to interpret. After selecting a model's logical structure (not parameter value), its parameters are set through training where initial random guesses are automatically adjusted to improve predictions. \n"
   ]
  },
  {
   "cell_type": "code",
   "execution_count": 1,
   "id": "e5e3317f",
   "metadata": {},
   "outputs": [
    {
     "data": {
      "text/html": [
       "<div>\n",
       "<style scoped>\n",
       "    .dataframe tbody tr th:only-of-type {\n",
       "        vertical-align: middle;\n",
       "    }\n",
       "\n",
       "    .dataframe tbody tr th {\n",
       "        vertical-align: top;\n",
       "    }\n",
       "\n",
       "    .dataframe thead th {\n",
       "        text-align: right;\n",
       "    }\n",
       "</style>\n",
       "<table border=\"1\" class=\"dataframe\">\n",
       "  <thead>\n",
       "    <tr style=\"text-align: right;\">\n",
       "      <th></th>\n",
       "      <th>boot_size</th>\n",
       "      <th>harness_size</th>\n",
       "      <th>sex</th>\n",
       "      <th>age_years</th>\n",
       "    </tr>\n",
       "  </thead>\n",
       "  <tbody>\n",
       "    <tr>\n",
       "      <th>0</th>\n",
       "      <td>39</td>\n",
       "      <td>58</td>\n",
       "      <td>male</td>\n",
       "      <td>12.0</td>\n",
       "    </tr>\n",
       "    <tr>\n",
       "      <th>1</th>\n",
       "      <td>38</td>\n",
       "      <td>58</td>\n",
       "      <td>male</td>\n",
       "      <td>9.6</td>\n",
       "    </tr>\n",
       "    <tr>\n",
       "      <th>2</th>\n",
       "      <td>37</td>\n",
       "      <td>52</td>\n",
       "      <td>female</td>\n",
       "      <td>8.6</td>\n",
       "    </tr>\n",
       "    <tr>\n",
       "      <th>3</th>\n",
       "      <td>39</td>\n",
       "      <td>58</td>\n",
       "      <td>male</td>\n",
       "      <td>10.2</td>\n",
       "    </tr>\n",
       "    <tr>\n",
       "      <th>4</th>\n",
       "      <td>38</td>\n",
       "      <td>57</td>\n",
       "      <td>male</td>\n",
       "      <td>7.8</td>\n",
       "    </tr>\n",
       "  </tbody>\n",
       "</table>\n",
       "</div>"
      ],
      "text/plain": [
       "   boot_size  harness_size     sex  age_years\n",
       "0         39            58    male       12.0\n",
       "1         38            58    male        9.6\n",
       "2         37            52  female        8.6\n",
       "3         39            58    male       10.2\n",
       "4         38            57    male        7.8"
      ]
     },
     "execution_count": 1,
     "metadata": {},
     "output_type": "execute_result"
    }
   ],
   "source": [
    "import pandas as pd \n",
    "\n",
    "data = pd.read_csv('doggy-boot-harness.csv')\n",
    "data.head()"
   ]
  },
  {
   "cell_type": "code",
   "execution_count": null,
   "id": "a06d1ab5",
   "metadata": {},
   "outputs": [
    {
     "name": "stdout",
     "output_type": "stream",
     "text": [
      "Model selected but it does not have parameters set. We need to train it!\n"
     ]
    }
   ],
   "source": [
    "# load a library to do the hard work for us\n",
    "\n",
    "import statsmodels.formula.api as smf\n",
    "\n",
    "# First, we define our formula using a special syntax\n",
    "# This says that boot size is explained by harness size\n",
    "\n",
    "formula = \"boot_size ~ harness_size\"\n",
    "\n",
    "# Create the model, but dont train it yet\n",
    "model = smf.ols(formula = formula, data = data)\n",
    "\n",
    "# Note that we have created our model but it does not have internal parameters set yet\n",
    "if not hasattr(model, 'params'):\n",
    "    print('Model selected but it does not have parameters set. We need to train it!')\n"
   ]
  },
  {
   "cell_type": "markdown",
   "id": "76968f18",
   "metadata": {},
   "source": [
    "# Train our model\n",
    "### OLS models have two parameters (a slope and an offset), but these have not been set in our model yet. We need to train(fit) our model to find these values so that the model can reliably estimate dogs boot size based on their harness size."
   ]
  },
  {
   "cell_type": "code",
   "execution_count": 4,
   "id": "0aa45865",
   "metadata": {},
   "outputs": [
    {
     "name": "stdout",
     "output_type": "stream",
     "text": [
      "The following model parameters have been found: \n",
      "Line slope: 0.5859254167382709\n",
      "Line intercept: 5.719109812682601\n"
     ]
    },
    {
     "name": "stderr",
     "output_type": "stream",
     "text": [
      "/var/folders/lz/9ztyyq913n1_6xkj9g8_jlg40000gn/T/ipykernel_3418/1071451097.py:6: FutureWarning: Series.__getitem__ treating keys as positions is deprecated. In a future version, integer keys will always be treated as labels (consistent with DataFrame behavior). To access a value by position, use `ser.iloc[pos]`\n",
      "  f'Line slope: {fitted_model.params[1]}\\n'+\n",
      "/var/folders/lz/9ztyyq913n1_6xkj9g8_jlg40000gn/T/ipykernel_3418/1071451097.py:7: FutureWarning: Series.__getitem__ treating keys as positions is deprecated. In a future version, integer keys will always be treated as labels (consistent with DataFrame behavior). To access a value by position, use `ser.iloc[pos]`\n",
      "  f'Line intercept: {fitted_model.params[0]}')\n"
     ]
    }
   ],
   "source": [
    "fitted_model = model.fit()\n",
    "\n",
    "# Print information about our model now it has been fit\n",
    "\n",
    "print('The following model parameters have been found: \\n'+ \n",
    "        f'Line slope: {fitted_model.params[1]}\\n'+\n",
    "        f'Line intercept: {fitted_model.params[0]}')\n"
   ]
  },
  {
   "cell_type": "code",
   "execution_count": 9,
   "id": "6033adf7",
   "metadata": {},
   "outputs": [
    {
     "name": "stderr",
     "output_type": "stream",
     "text": [
      "/var/folders/lz/9ztyyq913n1_6xkj9g8_jlg40000gn/T/ipykernel_3418/1664344293.py:4: FutureWarning: Series.__getitem__ treating keys as positions is deprecated. In a future version, integer keys will always be treated as labels (consistent with DataFrame behavior). To access a value by position, use `ser.iloc[pos]`\n",
      "  plt.plot(data['harness_size'], fitted_model.params[1] * data['harness_size'] + fitted_model.params[0])\n",
      "/var/folders/lz/9ztyyq913n1_6xkj9g8_jlg40000gn/T/ipykernel_3418/1664344293.py:7: UserWarning: No artists with labels found to put in legend.  Note that artists whose label start with an underscore are ignored when legend() is called with no argument.\n",
      "  plt.legend()\n"
     ]
    },
    {
     "data": {
      "text/plain": [
       "<matplotlib.legend.Legend at 0x3016e0d70>"
      ]
     },
     "execution_count": 9,
     "metadata": {},
     "output_type": "execute_result"
    },
    {
     "data": {
      "image/png": "[encoded data removed]",
      "text/plain": [
       "<Figure size 640x480 with 1 Axes>"
      ]
     },
     "metadata": {},
     "output_type": "display_data"
    }
   ],
   "source": [
    "import matplotlib.pyplot as plt\n",
    "\n",
    "plt.scatter(data['harness_size'], data['boot_size'])\n",
    "plt.plot(data['harness_size'], fitted_model.params[1] * data['harness_size'] + fitted_model.params[0])\n",
    "plt.xlabel('harness_size')\n",
    "plt.ylabel('boot_size')\n",
    "plt.legend()"
   ]
  },
  {
   "cell_type": "code",
   "execution_count": 10,
   "id": "87ef1ec5",
   "metadata": {},
   "outputs": [
    {
     "name": "stdout",
     "output_type": "stream",
     "text": [
      "Estimated approximate boot size: \n",
      "0    36.480194\n",
      "dtype: float64\n"
     ]
    }
   ],
   "source": [
    "# Use the Model\n",
    "\n",
    "harness_size = {'harness_size': [52.5]}\n",
    "\n",
    "approximate_boot_size = fitted_model.predict(harness_size)\n",
    "\n",
    "print('Estimated approximate boot size: ')\n",
    "print(approximate_boot_size)"
   ]
  }
 ],
 "metadata": {
  "kernelspec": {
   "display_name": "DSFoundation",
   "language": "python",
   "name": "python3"
  },
  "language_info": {
   "codemirror_mode": {
    "name": "ipython",
    "version": 3
   },
   "file_extension": ".py",
   "mimetype": "text/x-python",
   "name": "python",
   "nbconvert_exporter": "python",
   "pygments_lexer": "ipython3",
   "version": "3.13.7"
  }
 },
 "nbformat": 4,
 "nbformat_minor": 5
}
