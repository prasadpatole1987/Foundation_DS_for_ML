{
 "cells": [
  {
   "cell_type": "markdown",
   "id": "27b94be5",
   "metadata": {},
   "source": [
    "### The learning process alters model until it can make high-quality estimates. To determine how well a model is performing, the learning process uses mathematics in the form of a cost function also known an objective function.\n",
    "\n",
    "# Error, cost and loss\n",
    "\n",
    "### In supervised learning, error, cost and loss all refer to the number of mistakes that a model makes in predicting one or more labels. \n",
    "\n",
    "### Cost is calculated through mathematics, it isnt a qualitative judgement. e.g. If a model predicts a daily temp of 31 degrees and actual temperature is 28 degrees. Then we may say it has an error of 3 degrees.\n",
    "\n",
    "\n",
    "# Minimizing cost is our goal\n",
    "\n",
    "### We want to train the model to make no mistakes at all. That is often impossible, so instead we train model to have the lowest cost possible. \n",
    "\n",
    "\n",
    "# What is a cost function?\n",
    "\n",
    "### In supervised learning, a cost function is a small piece of code that calculates cost from a model's prediction and the correct answer (expected label).\n",
    "\n",
    "### After the cost function calculates the cost, we know whether a model is performing well or not. If its performing well, we might choose to stop training. If not, we can pass cost function to the optimizer, which uses this information to select new parameters for the model.\n",
    "\n",
    "### During training, differnt cost functions can change how long training takes or how well it works."
   ]
  },
  {
   "cell_type": "code",
   "execution_count": 3,
   "id": "ad1b743c",
   "metadata": {},
   "outputs": [
    {
     "data": {
      "text/html": [
       "<div>\n",
       "<style scoped>\n",
       "    .dataframe tbody tr th:only-of-type {\n",
       "        vertical-align: middle;\n",
       "    }\n",
       "\n",
       "    .dataframe tbody tr th {\n",
       "        vertical-align: top;\n",
       "    }\n",
       "\n",
       "    .dataframe thead th {\n",
       "        text-align: right;\n",
       "    }\n",
       "</style>\n",
       "<table border=\"1\" class=\"dataframe\">\n",
       "  <thead>\n",
       "    <tr style=\"text-align: right;\">\n",
       "      <th></th>\n",
       "      <th>date</th>\n",
       "      <th>amount_of_precipitation</th>\n",
       "      <th>max_temperature</th>\n",
       "      <th>min_temperature</th>\n",
       "      <th>rain</th>\n",
       "      <th>year</th>\n",
       "    </tr>\n",
       "  </thead>\n",
       "  <tbody>\n",
       "    <tr>\n",
       "      <th>762</th>\n",
       "      <td>1950-02-01</td>\n",
       "      <td>0.00</td>\n",
       "      <td>27</td>\n",
       "      <td>1</td>\n",
       "      <td>False</td>\n",
       "      <td>1950.087611</td>\n",
       "    </tr>\n",
       "    <tr>\n",
       "      <th>4414</th>\n",
       "      <td>1960-02-01</td>\n",
       "      <td>0.15</td>\n",
       "      <td>52</td>\n",
       "      <td>44</td>\n",
       "      <td>True</td>\n",
       "      <td>1960.087611</td>\n",
       "    </tr>\n",
       "    <tr>\n",
       "      <th>8067</th>\n",
       "      <td>1970-02-01</td>\n",
       "      <td>0.00</td>\n",
       "      <td>50</td>\n",
       "      <td>42</td>\n",
       "      <td>False</td>\n",
       "      <td>1970.087611</td>\n",
       "    </tr>\n",
       "    <tr>\n",
       "      <th>11719</th>\n",
       "      <td>1980-02-01</td>\n",
       "      <td>0.37</td>\n",
       "      <td>54</td>\n",
       "      <td>36</td>\n",
       "      <td>True</td>\n",
       "      <td>1980.087611</td>\n",
       "    </tr>\n",
       "    <tr>\n",
       "      <th>15372</th>\n",
       "      <td>1990-02-01</td>\n",
       "      <td>0.08</td>\n",
       "      <td>45</td>\n",
       "      <td>37</td>\n",
       "      <td>True</td>\n",
       "      <td>1990.087611</td>\n",
       "    </tr>\n",
       "    <tr>\n",
       "      <th>19024</th>\n",
       "      <td>2000-02-01</td>\n",
       "      <td>1.34</td>\n",
       "      <td>49</td>\n",
       "      <td>41</td>\n",
       "      <td>True</td>\n",
       "      <td>2000.087611</td>\n",
       "    </tr>\n",
       "    <tr>\n",
       "      <th>22677</th>\n",
       "      <td>2010-02-01</td>\n",
       "      <td>0.08</td>\n",
       "      <td>49</td>\n",
       "      <td>40</td>\n",
       "      <td>True</td>\n",
       "      <td>2010.087611</td>\n",
       "    </tr>\n",
       "    <tr>\n",
       "      <th>25234</th>\n",
       "      <td>2017-02-01</td>\n",
       "      <td>0.00</td>\n",
       "      <td>43</td>\n",
       "      <td>29</td>\n",
       "      <td>False</td>\n",
       "      <td>2017.087611</td>\n",
       "    </tr>\n",
       "  </tbody>\n",
       "</table>\n",
       "</div>"
      ],
      "text/plain": [
       "            date  amount_of_precipitation  max_temperature  min_temperature  \\\n",
       "762   1950-02-01                     0.00               27                1   \n",
       "4414  1960-02-01                     0.15               52               44   \n",
       "8067  1970-02-01                     0.00               50               42   \n",
       "11719 1980-02-01                     0.37               54               36   \n",
       "15372 1990-02-01                     0.08               45               37   \n",
       "19024 2000-02-01                     1.34               49               41   \n",
       "22677 2010-02-01                     0.08               49               40   \n",
       "25234 2017-02-01                     0.00               43               29   \n",
       "\n",
       "        rain         year  \n",
       "762    False  1950.087611  \n",
       "4414    True  1960.087611  \n",
       "8067   False  1970.087611  \n",
       "11719   True  1980.087611  \n",
       "15372   True  1990.087611  \n",
       "19024   True  2000.087611  \n",
       "22677   True  2010.087611  \n",
       "25234  False  2017.087611  "
      ]
     },
     "execution_count": 3,
     "metadata": {},
     "output_type": "execute_result"
    }
   ],
   "source": [
    "import pandas as pd\n",
    "\n",
    "from datetime import datetime\n",
    "\n",
    "dataset = pd.read_csv('seattleWeather_1948-2017.csv', parse_dates=['date'])\n",
    "\n",
    "dataset['year'] = [(d.year + d.timetuple().tm_yday / 365.25) for d in dataset.date]\n",
    "\n",
    "desired_dates = [\n",
    "    datetime(1950,2,1),\n",
    "    datetime(1960,2,1),\n",
    "    datetime(1970,2,1),\n",
    "    datetime(1980,2,1),\n",
    "    datetime(1990,2,1),\n",
    "    datetime(2000,2,1),\n",
    "    datetime(2010,2,1),\n",
    "    datetime(2017,2,1)\n",
    "]\n",
    "\n",
    "dataset = dataset[dataset.date.isin(desired_dates)].copy()\n",
    "\n",
    "dataset"
   ]
  },
  {
   "cell_type": "code",
   "execution_count": 6,
   "id": "67d5ee38",
   "metadata": {},
   "outputs": [],
   "source": [
    "# Comparing two cost functions\n",
    "## SSD squares the difference and sum the result\n",
    "## SAD converts differences into absolute differences and then sums them\n",
    "\n",
    "import numpy as np\n",
    "\n",
    "def sum_of_square_differences(estimate, actual):\n",
    "    return np.sum((estimate - actual) ** 2)\n",
    "\n",
    "def sum_of_absolute_differences(estimate, actual):\n",
    "    return np.sum(np.abs(estimate - actual))\n",
    "\n"
   ]
  },
  {
   "cell_type": "code",
   "execution_count": null,
   "id": "875caa99",
   "metadata": {},
   "outputs": [
    {
     "data": {
      "text/plain": [
       "<matplotlib.legend.Legend at 0x168c21fd0>"
      ]
     },
     "execution_count": 7,
     "metadata": {},
     "output_type": "execute_result"
    },
    {
     "data": {
      "image/png": "[encoded data removed]",
      "text/plain": [
       "<Figure size 640x480 with 1 Axes>"
      ]
     },
     "metadata": {},
     "output_type": "display_data"
    }
   ],
   "source": [
    "from microsoft_custom_linear_regressor import MicrosoftCustomLinearRegressor\n",
    "import matplotlib.pyplot as plt\n",
    "\n",
    "model = MicrosoftCustomLinearRegressor().fit(X = dataset.year, y = dataset.min_temperature, cost_function= sum_of_square_differences)\n",
    "\n",
    "plt.scatter(dataset['year'], dataset['min_temperature'])\n",
    "plt.plot(dataset['year'], model.predict(dataset['year']), 'r', label = 'Fitted Line')\n",
    "\n",
    "plt.xlabel('year')\n",
    "plt.ylabel('min_temperature')\n",
    "\n",
    "plt.legend()\n",
    "\n",
    "### Here SSD did a poor job as line is fa from the values for many datapoints. Due to datapoint at the lower left, it is strongly influencing our final model."
   ]
  },
  {
   "cell_type": "code",
   "execution_count": 8,
   "id": "c8b0f66f",
   "metadata": {},
   "outputs": [
    {
     "data": {
      "text/plain": [
       "<matplotlib.legend.Legend at 0x168d44410>"
      ]
     },
     "execution_count": 8,
     "metadata": {},
     "output_type": "execute_result"
    },
    {
     "data": {
      "image/png": "[encoded data removed]",
      "text/plain": [
       "<Figure size 640x480 with 1 Axes>"
      ]
     },
     "metadata": {},
     "output_type": "display_data"
    }
   ],
   "source": [
    "model = MicrosoftCustomLinearRegressor().fit(X= dataset.year, y = dataset.min_temperature, cost_function= sum_of_absolute_differences)\n",
    "\n",
    "plt.scatter(dataset.year, dataset.min_temperature)\n",
    "plt.plot(dataset.year, model.predict(dataset.year), 'r', label = 'Fitted Line')\n",
    "plt.xlabel('year')\n",
    "plt.ylabel('Min Temperature')\n",
    "plt.legend()"
   ]
  },
  {
   "cell_type": "markdown",
   "id": "5dc6f76f",
   "metadata": {},
   "source": [
    "### SAD worked really well in this scenario as fitted line passes through the majority of points much better than before. Since in farming scenario we are interested in average temperture change and we are not perticularly interested in datapoint of 1950. SAD works for us.\n",
    "\n",
    "### So we learned how changing the cost function that is used during fitting can result in different final result. "
   ]
  }
 ],
 "metadata": {
  "kernelspec": {
   "display_name": "DSFoundation",
   "language": "python",
   "name": "python3"
  },
  "language_info": {
   "codemirror_mode": {
    "name": "ipython",
    "version": 3
   },
   "file_extension": ".py",
   "mimetype": "text/x-python",
   "name": "python",
   "nbconvert_exporter": "python",
   "pygments_lexer": "ipython3",
   "version": "3.13.7"
  }
 },
 "nbformat": 4,
 "nbformat_minor": 5
}
